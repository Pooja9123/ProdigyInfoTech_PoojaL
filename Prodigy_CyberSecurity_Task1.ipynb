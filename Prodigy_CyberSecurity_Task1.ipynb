{
 "cells": [
  {
   "cell_type": "code",
   "execution_count": null,
   "id": "60f014ef",
   "metadata": {},
   "outputs": [],
   "source": [
    "#Implementing Caesar Cipher Algorithm - Encryption and Decryption\n",
    "#Requisites:\n",
    "#Get the message and shift value from the user"
   ]
  },
  {
   "cell_type": "code",
   "execution_count": 3,
   "id": "a7125b22",
   "metadata": {},
   "outputs": [
    {
     "name": "stdout",
     "output_type": "stream",
     "text": [
      "Enter the message: Pooja\n",
      "Enter shift value: 3\n",
      "The encrypted string is:  Srrmd\n",
      "The decrypted message is:  Pooja\n"
     ]
    }
   ],
   "source": [
    "#Caesar Cipher\n",
    "\n",
    "\n",
    "def encrypt(msg,val):\n",
    "    encrypted=''\n",
    "    for i in msg:\n",
    "        if i.isalpha():\n",
    "            if i.isupper():                        #uppercase\n",
    "                encrypted+=chr((ord(i)+val-65)%26 +65)\n",
    "            else:\n",
    "                encrypted+=chr((ord(i)+val-97)%26 +97)\n",
    "        else:\n",
    "            encrypted+=msg\n",
    "            \n",
    "    return encrypted\n",
    "\n",
    "def decrypt(msg,val):\n",
    "    decrypted=\"\"\n",
    "    for i in msg:\n",
    "        if i.isalpha():\n",
    "            if i.isupper():                        #uppercase\n",
    "                decrypted+=chr((ord(i)-val-65)%26 +65)\n",
    "            else:\n",
    "                decrypted+=chr((ord(i)-val-97)%26 +97)\n",
    "        else:\n",
    "            decrypted+=msg\n",
    "            \n",
    "    return decrypted\n",
    "\n",
    "if __name__==\"__main__\":\n",
    "    message=input(\"Enter the message: \")\n",
    "    shift=int(input(\"Enter shift value: \"))\n",
    "    encrypted_string=encrypt(message,shift)\n",
    "    print(\"The encrypted string is: \",encrypted_string)\n",
    "    decrypted_string=decrypt(encrypted_string,shift)\n",
    "    print(\"The decrypted message is: \",decrypted_string)\n",
    "    \n",
    "                \n",
    "        "
   ]
  },
  {
   "cell_type": "code",
   "execution_count": null,
   "id": "6c36d0ac",
   "metadata": {},
   "outputs": [],
   "source": []
  }
 ],
 "metadata": {
  "kernelspec": {
   "display_name": "Python 3 (ipykernel)",
   "language": "python",
   "name": "python3"
  },
  "language_info": {
   "codemirror_mode": {
    "name": "ipython",
    "version": 3
   },
   "file_extension": ".py",
   "mimetype": "text/x-python",
   "name": "python",
   "nbconvert_exporter": "python",
   "pygments_lexer": "ipython3",
   "version": "3.11.5"
  }
 },
 "nbformat": 4,
 "nbformat_minor": 5
}
