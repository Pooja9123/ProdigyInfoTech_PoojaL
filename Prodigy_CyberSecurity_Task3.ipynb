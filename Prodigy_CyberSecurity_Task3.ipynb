{
 "cells": [
  {
   "cell_type": "code",
   "execution_count": null,
   "id": "f3457b9e",
   "metadata": {},
   "outputs": [],
   "source": [
    "#Password Complexity Checker\n",
    "#Check for appropriate length, uppercase and lowercase letters, numbers and special characters"
   ]
  },
  {
   "cell_type": "code",
   "execution_count": null,
   "id": "a8ea9b3a",
   "metadata": {},
   "outputs": [],
   "source": [
    "#Regex- usually define a search pattern\n",
    "#used commonly for searching and manipulating text strings.\n",
    "#Here, I have used it to validate the input based on the criteria"
   ]
  },
  {
   "cell_type": "code",
   "execution_count": 2,
   "id": "93e91308",
   "metadata": {},
   "outputs": [
    {
     "name": "stdout",
     "output_type": "stream",
     "text": [
      "Enter the password: pooja\n",
      "Password length should be at least 8 characters.\n"
     ]
    }
   ],
   "source": [
    "import re\n",
    "\n",
    "def check_password_complexity(password):\n",
    "    if len(password) < 8:\n",
    "        return \"Password length should be at least 8 characters.\"\n",
    "    \n",
    "    has_upper = re.search(r'[A-Z]', password)\n",
    "    has_lower = re.search(r'[a-z]', password)\n",
    "    has_digit = re.search(r'\\d', password)\n",
    "    has_special = re.search(r'[^A-Za-z0-9]', password)  # Matches any character that is not alphanumeric\n",
    "    \n",
    "    if not has_upper:\n",
    "        return \"Password should contain at least one uppercase letter.\"\n",
    "    if not has_lower:\n",
    "        return \"Password should contain at least one lowercase letter.\"\n",
    "    if not has_digit:\n",
    "        return \"Password should contain at least one digit.\"\n",
    "    if not has_special:\n",
    "        return \"Password should contain at least one special character.\"\n",
    "\n",
    "    # Password meets all criteria\n",
    "    return \"Password is strong.\"\n",
    "\n",
    "# Example usage:\n",
    "password = input(\"Enter the password: \")\n",
    "result = check_password_complexity(password)\n",
    "print(result)\n"
   ]
  }
 ],
 "metadata": {
  "kernelspec": {
   "display_name": "Python 3 (ipykernel)",
   "language": "python",
   "name": "python3"
  },
  "language_info": {
   "codemirror_mode": {
    "name": "ipython",
    "version": 3
   },
   "file_extension": ".py",
   "mimetype": "text/x-python",
   "name": "python",
   "nbconvert_exporter": "python",
   "pygments_lexer": "ipython3",
   "version": "3.11.5"
  }
 },
 "nbformat": 4,
 "nbformat_minor": 5
}
